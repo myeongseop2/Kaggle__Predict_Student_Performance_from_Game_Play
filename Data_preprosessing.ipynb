{
 "cells": [
  {
   "cell_type": "code",
   "execution_count": 2,
   "metadata": {},
   "outputs": [],
   "source": [
    "import pandas as pd"
   ]
  },
  {
   "cell_type": "markdown",
   "metadata": {},
   "source": [
    "# train_df"
   ]
  },
  {
   "cell_type": "code",
   "execution_count": 3,
   "metadata": {},
   "outputs": [
    {
     "name": "stdout",
     "output_type": "stream",
     "text": [
      "train_shape :  (26296946, 20)\n"
     ]
    },
    {
     "data": {
      "text/html": [
       "<div>\n",
       "<style scoped>\n",
       "    .dataframe tbody tr th:only-of-type {\n",
       "        vertical-align: middle;\n",
       "    }\n",
       "\n",
       "    .dataframe tbody tr th {\n",
       "        vertical-align: top;\n",
       "    }\n",
       "\n",
       "    .dataframe thead th {\n",
       "        text-align: right;\n",
       "    }\n",
       "</style>\n",
       "<table border=\"1\" class=\"dataframe\">\n",
       "  <thead>\n",
       "    <tr style=\"text-align: right;\">\n",
       "      <th></th>\n",
       "      <th>session_id</th>\n",
       "      <th>index</th>\n",
       "      <th>elapsed_time</th>\n",
       "      <th>event_name</th>\n",
       "      <th>name</th>\n",
       "      <th>level</th>\n",
       "      <th>page</th>\n",
       "      <th>room_coor_x</th>\n",
       "      <th>room_coor_y</th>\n",
       "      <th>screen_coor_x</th>\n",
       "      <th>screen_coor_y</th>\n",
       "      <th>hover_duration</th>\n",
       "      <th>text</th>\n",
       "      <th>fqid</th>\n",
       "      <th>room_fqid</th>\n",
       "      <th>text_fqid</th>\n",
       "      <th>fullscreen</th>\n",
       "      <th>hq</th>\n",
       "      <th>music</th>\n",
       "      <th>level_group</th>\n",
       "    </tr>\n",
       "  </thead>\n",
       "  <tbody>\n",
       "    <tr>\n",
       "      <th>0</th>\n",
       "      <td>20090312431273200</td>\n",
       "      <td>0</td>\n",
       "      <td>0</td>\n",
       "      <td>cutscene_click</td>\n",
       "      <td>basic</td>\n",
       "      <td>0</td>\n",
       "      <td>NaN</td>\n",
       "      <td>-413.991405</td>\n",
       "      <td>-159.314686</td>\n",
       "      <td>380.0</td>\n",
       "      <td>494.0</td>\n",
       "      <td>NaN</td>\n",
       "      <td>undefined</td>\n",
       "      <td>intro</td>\n",
       "      <td>tunic.historicalsociety.closet</td>\n",
       "      <td>tunic.historicalsociety.closet.intro</td>\n",
       "      <td>0</td>\n",
       "      <td>0</td>\n",
       "      <td>1</td>\n",
       "      <td>0-4</td>\n",
       "    </tr>\n",
       "    <tr>\n",
       "      <th>1</th>\n",
       "      <td>20090312431273200</td>\n",
       "      <td>1</td>\n",
       "      <td>1323</td>\n",
       "      <td>person_click</td>\n",
       "      <td>basic</td>\n",
       "      <td>0</td>\n",
       "      <td>NaN</td>\n",
       "      <td>-413.991405</td>\n",
       "      <td>-159.314686</td>\n",
       "      <td>380.0</td>\n",
       "      <td>494.0</td>\n",
       "      <td>NaN</td>\n",
       "      <td>Whatcha doing over there, Jo?</td>\n",
       "      <td>gramps</td>\n",
       "      <td>tunic.historicalsociety.closet</td>\n",
       "      <td>tunic.historicalsociety.closet.gramps.intro_0_...</td>\n",
       "      <td>0</td>\n",
       "      <td>0</td>\n",
       "      <td>1</td>\n",
       "      <td>0-4</td>\n",
       "    </tr>\n",
       "    <tr>\n",
       "      <th>2</th>\n",
       "      <td>20090312431273200</td>\n",
       "      <td>2</td>\n",
       "      <td>831</td>\n",
       "      <td>person_click</td>\n",
       "      <td>basic</td>\n",
       "      <td>0</td>\n",
       "      <td>NaN</td>\n",
       "      <td>-413.991405</td>\n",
       "      <td>-159.314686</td>\n",
       "      <td>380.0</td>\n",
       "      <td>494.0</td>\n",
       "      <td>NaN</td>\n",
       "      <td>Just talking to Teddy.</td>\n",
       "      <td>gramps</td>\n",
       "      <td>tunic.historicalsociety.closet</td>\n",
       "      <td>tunic.historicalsociety.closet.gramps.intro_0_...</td>\n",
       "      <td>0</td>\n",
       "      <td>0</td>\n",
       "      <td>1</td>\n",
       "      <td>0-4</td>\n",
       "    </tr>\n",
       "    <tr>\n",
       "      <th>3</th>\n",
       "      <td>20090312431273200</td>\n",
       "      <td>3</td>\n",
       "      <td>1147</td>\n",
       "      <td>person_click</td>\n",
       "      <td>basic</td>\n",
       "      <td>0</td>\n",
       "      <td>NaN</td>\n",
       "      <td>-413.991405</td>\n",
       "      <td>-159.314686</td>\n",
       "      <td>380.0</td>\n",
       "      <td>494.0</td>\n",
       "      <td>NaN</td>\n",
       "      <td>I gotta run to my meeting!</td>\n",
       "      <td>gramps</td>\n",
       "      <td>tunic.historicalsociety.closet</td>\n",
       "      <td>tunic.historicalsociety.closet.gramps.intro_0_...</td>\n",
       "      <td>0</td>\n",
       "      <td>0</td>\n",
       "      <td>1</td>\n",
       "      <td>0-4</td>\n",
       "    </tr>\n",
       "    <tr>\n",
       "      <th>4</th>\n",
       "      <td>20090312431273200</td>\n",
       "      <td>4</td>\n",
       "      <td>1863</td>\n",
       "      <td>person_click</td>\n",
       "      <td>basic</td>\n",
       "      <td>0</td>\n",
       "      <td>NaN</td>\n",
       "      <td>-412.991405</td>\n",
       "      <td>-159.314686</td>\n",
       "      <td>381.0</td>\n",
       "      <td>494.0</td>\n",
       "      <td>NaN</td>\n",
       "      <td>Can I come, Gramps?</td>\n",
       "      <td>gramps</td>\n",
       "      <td>tunic.historicalsociety.closet</td>\n",
       "      <td>tunic.historicalsociety.closet.gramps.intro_0_...</td>\n",
       "      <td>0</td>\n",
       "      <td>0</td>\n",
       "      <td>1</td>\n",
       "      <td>0-4</td>\n",
       "    </tr>\n",
       "  </tbody>\n",
       "</table>\n",
       "</div>"
      ],
      "text/plain": [
       "          session_id  index  elapsed_time      event_name   name  level  page  \\\n",
       "0  20090312431273200      0             0  cutscene_click  basic      0   NaN   \n",
       "1  20090312431273200      1          1323    person_click  basic      0   NaN   \n",
       "2  20090312431273200      2           831    person_click  basic      0   NaN   \n",
       "3  20090312431273200      3          1147    person_click  basic      0   NaN   \n",
       "4  20090312431273200      4          1863    person_click  basic      0   NaN   \n",
       "\n",
       "   room_coor_x  room_coor_y  screen_coor_x  screen_coor_y  hover_duration  \\\n",
       "0  -413.991405  -159.314686          380.0          494.0             NaN   \n",
       "1  -413.991405  -159.314686          380.0          494.0             NaN   \n",
       "2  -413.991405  -159.314686          380.0          494.0             NaN   \n",
       "3  -413.991405  -159.314686          380.0          494.0             NaN   \n",
       "4  -412.991405  -159.314686          381.0          494.0             NaN   \n",
       "\n",
       "                            text    fqid                       room_fqid  \\\n",
       "0                      undefined   intro  tunic.historicalsociety.closet   \n",
       "1  Whatcha doing over there, Jo?  gramps  tunic.historicalsociety.closet   \n",
       "2         Just talking to Teddy.  gramps  tunic.historicalsociety.closet   \n",
       "3     I gotta run to my meeting!  gramps  tunic.historicalsociety.closet   \n",
       "4            Can I come, Gramps?  gramps  tunic.historicalsociety.closet   \n",
       "\n",
       "                                           text_fqid  fullscreen  hq  music  \\\n",
       "0               tunic.historicalsociety.closet.intro           0   0      1   \n",
       "1  tunic.historicalsociety.closet.gramps.intro_0_...           0   0      1   \n",
       "2  tunic.historicalsociety.closet.gramps.intro_0_...           0   0      1   \n",
       "3  tunic.historicalsociety.closet.gramps.intro_0_...           0   0      1   \n",
       "4  tunic.historicalsociety.closet.gramps.intro_0_...           0   0      1   \n",
       "\n",
       "  level_group  \n",
       "0         0-4  \n",
       "1         0-4  \n",
       "2         0-4  \n",
       "3         0-4  \n",
       "4         0-4  "
      ]
     },
     "execution_count": 3,
     "metadata": {},
     "output_type": "execute_result"
    }
   ],
   "source": [
    "train_df = pd.read_csv('predict-student-performance-from-game-play/train.csv')\n",
    "\n",
    "print(\"train_shape : \", train_df.shape)\n",
    "train_df.head()"
   ]
  },
  {
   "cell_type": "code",
   "execution_count": 14,
   "metadata": {},
   "outputs": [
    {
     "data": {
      "text/plain": [
       "Index(['session_id', 'index', 'elapsed_time', 'event_name', 'name', 'level',\n",
       "       'page', 'room_coor_x', 'room_coor_y', 'screen_coor_x', 'screen_coor_y',\n",
       "       'hover_duration', 'text', 'fqid', 'room_fqid', 'text_fqid',\n",
       "       'fullscreen', 'hq', 'music', 'level_group'],\n",
       "      dtype='object')"
      ]
     },
     "execution_count": 14,
     "metadata": {},
     "output_type": "execute_result"
    }
   ],
   "source": [
    "train_df.columns"
   ]
  },
  {
   "cell_type": "code",
   "execution_count": 15,
   "metadata": {},
   "outputs": [
    {
     "name": "stdout",
     "output_type": "stream",
     "text": [
      "<class 'pandas.core.frame.DataFrame'>\n",
      "RangeIndex: 26296946 entries, 0 to 26296945\n",
      "Data columns (total 20 columns):\n",
      " #   Column          Dtype  \n",
      "---  ------          -----  \n",
      " 0   session_id      int64  \n",
      " 1   index           int64  \n",
      " 2   elapsed_time    int64  \n",
      " 3   event_name      object \n",
      " 4   name            object \n",
      " 5   level           int64  \n",
      " 6   page            float64\n",
      " 7   room_coor_x     float64\n",
      " 8   room_coor_y     float64\n",
      " 9   screen_coor_x   float64\n",
      " 10  screen_coor_y   float64\n",
      " 11  hover_duration  float64\n",
      " 12  text            object \n",
      " 13  fqid            object \n",
      " 14  room_fqid       object \n",
      " 15  text_fqid       object \n",
      " 16  fullscreen      int64  \n",
      " 17  hq              int64  \n",
      " 18  music           int64  \n",
      " 19  level_group     object \n",
      "dtypes: float64(6), int64(7), object(7)\n",
      "memory usage: 3.9+ GB\n"
     ]
    }
   ],
   "source": [
    "train_df.info()"
   ]
  },
  {
   "cell_type": "code",
   "execution_count": 17,
   "metadata": {},
   "outputs": [
    {
     "data": {
      "text/html": [
       "<div>\n",
       "<style scoped>\n",
       "    .dataframe tbody tr th:only-of-type {\n",
       "        vertical-align: middle;\n",
       "    }\n",
       "\n",
       "    .dataframe tbody tr th {\n",
       "        vertical-align: top;\n",
       "    }\n",
       "\n",
       "    .dataframe thead th {\n",
       "        text-align: right;\n",
       "    }\n",
       "</style>\n",
       "<table border=\"1\" class=\"dataframe\">\n",
       "  <thead>\n",
       "    <tr style=\"text-align: right;\">\n",
       "      <th></th>\n",
       "      <th>session_id</th>\n",
       "      <th>index</th>\n",
       "      <th>elapsed_time</th>\n",
       "      <th>event_name</th>\n",
       "      <th>name</th>\n",
       "      <th>level</th>\n",
       "      <th>page</th>\n",
       "      <th>room_coor_x</th>\n",
       "      <th>room_coor_y</th>\n",
       "      <th>screen_coor_x</th>\n",
       "      <th>screen_coor_y</th>\n",
       "      <th>hover_duration</th>\n",
       "      <th>text</th>\n",
       "      <th>fqid</th>\n",
       "      <th>room_fqid</th>\n",
       "      <th>text_fqid</th>\n",
       "      <th>fullscreen</th>\n",
       "      <th>hq</th>\n",
       "      <th>music</th>\n",
       "      <th>level_group</th>\n",
       "    </tr>\n",
       "  </thead>\n",
       "  <tbody>\n",
       "    <tr>\n",
       "      <th>count</th>\n",
       "      <td>2.629695e+07</td>\n",
       "      <td>2.629695e+07</td>\n",
       "      <td>2.629695e+07</td>\n",
       "      <td>26296946</td>\n",
       "      <td>26296946</td>\n",
       "      <td>2.629695e+07</td>\n",
       "      <td>564544.000000</td>\n",
       "      <td>2.422367e+07</td>\n",
       "      <td>2.422367e+07</td>\n",
       "      <td>2.422367e+07</td>\n",
       "      <td>2.422367e+07</td>\n",
       "      <td>2.002244e+06</td>\n",
       "      <td>9617139</td>\n",
       "      <td>18022531</td>\n",
       "      <td>26296946</td>\n",
       "      <td>9617244</td>\n",
       "      <td>2.629695e+07</td>\n",
       "      <td>2.629695e+07</td>\n",
       "      <td>2.629695e+07</td>\n",
       "      <td>26296946</td>\n",
       "    </tr>\n",
       "    <tr>\n",
       "      <th>unique</th>\n",
       "      <td>NaN</td>\n",
       "      <td>NaN</td>\n",
       "      <td>NaN</td>\n",
       "      <td>11</td>\n",
       "      <td>6</td>\n",
       "      <td>NaN</td>\n",
       "      <td>NaN</td>\n",
       "      <td>NaN</td>\n",
       "      <td>NaN</td>\n",
       "      <td>NaN</td>\n",
       "      <td>NaN</td>\n",
       "      <td>NaN</td>\n",
       "      <td>597</td>\n",
       "      <td>128</td>\n",
       "      <td>19</td>\n",
       "      <td>126</td>\n",
       "      <td>NaN</td>\n",
       "      <td>NaN</td>\n",
       "      <td>NaN</td>\n",
       "      <td>3</td>\n",
       "    </tr>\n",
       "    <tr>\n",
       "      <th>top</th>\n",
       "      <td>NaN</td>\n",
       "      <td>NaN</td>\n",
       "      <td>NaN</td>\n",
       "      <td>navigate_click</td>\n",
       "      <td>undefined</td>\n",
       "      <td>NaN</td>\n",
       "      <td>NaN</td>\n",
       "      <td>NaN</td>\n",
       "      <td>NaN</td>\n",
       "      <td>NaN</td>\n",
       "      <td>NaN</td>\n",
       "      <td>NaN</td>\n",
       "      <td>undefined</td>\n",
       "      <td>worker</td>\n",
       "      <td>tunic.historicalsociety.entry</td>\n",
       "      <td>tunic.historicalsociety.cage.confrontation</td>\n",
       "      <td>NaN</td>\n",
       "      <td>NaN</td>\n",
       "      <td>NaN</td>\n",
       "      <td>13-22</td>\n",
       "    </tr>\n",
       "    <tr>\n",
       "      <th>freq</th>\n",
       "      <td>NaN</td>\n",
       "      <td>NaN</td>\n",
       "      <td>NaN</td>\n",
       "      <td>11326433</td>\n",
       "      <td>12705785</td>\n",
       "      <td>NaN</td>\n",
       "      <td>NaN</td>\n",
       "      <td>NaN</td>\n",
       "      <td>NaN</td>\n",
       "      <td>NaN</td>\n",
       "      <td>NaN</td>\n",
       "      <td>NaN</td>\n",
       "      <td>355969</td>\n",
       "      <td>1878958</td>\n",
       "      <td>3622003</td>\n",
       "      <td>666557</td>\n",
       "      <td>NaN</td>\n",
       "      <td>NaN</td>\n",
       "      <td>NaN</td>\n",
       "      <td>13471703</td>\n",
       "    </tr>\n",
       "    <tr>\n",
       "      <th>mean</th>\n",
       "      <td>2.113249e+16</td>\n",
       "      <td>6.445102e+02</td>\n",
       "      <td>4.016694e+06</td>\n",
       "      <td>NaN</td>\n",
       "      <td>NaN</td>\n",
       "      <td>1.219169e+01</td>\n",
       "      <td>3.166559</td>\n",
       "      <td>-5.490579e+01</td>\n",
       "      <td>-1.162119e+02</td>\n",
       "      <td>4.584098e+02</td>\n",
       "      <td>3.855860e+02</td>\n",
       "      <td>3.471003e+03</td>\n",
       "      <td>NaN</td>\n",
       "      <td>NaN</td>\n",
       "      <td>NaN</td>\n",
       "      <td>NaN</td>\n",
       "      <td>1.370037e-01</td>\n",
       "      <td>1.202047e-01</td>\n",
       "      <td>9.293778e-01</td>\n",
       "      <td>NaN</td>\n",
       "    </tr>\n",
       "    <tr>\n",
       "      <th>std</th>\n",
       "      <td>5.712953e+14</td>\n",
       "      <td>5.457880e+02</td>\n",
       "      <td>3.127032e+07</td>\n",
       "      <td>NaN</td>\n",
       "      <td>NaN</td>\n",
       "      <td>6.497789e+00</td>\n",
       "      <td>2.063291</td>\n",
       "      <td>5.202926e+02</td>\n",
       "      <td>2.184710e+02</td>\n",
       "      <td>2.479389e+02</td>\n",
       "      <td>1.298166e+02</td>\n",
       "      <td>4.602024e+05</td>\n",
       "      <td>NaN</td>\n",
       "      <td>NaN</td>\n",
       "      <td>NaN</td>\n",
       "      <td>NaN</td>\n",
       "      <td>3.438513e-01</td>\n",
       "      <td>3.252008e-01</td>\n",
       "      <td>2.561926e-01</td>\n",
       "      <td>NaN</td>\n",
       "    </tr>\n",
       "    <tr>\n",
       "      <th>min</th>\n",
       "      <td>2.009031e+16</td>\n",
       "      <td>0.000000e+00</td>\n",
       "      <td>0.000000e+00</td>\n",
       "      <td>NaN</td>\n",
       "      <td>NaN</td>\n",
       "      <td>0.000000e+00</td>\n",
       "      <td>0.000000</td>\n",
       "      <td>-1.992355e+03</td>\n",
       "      <td>-9.181623e+02</td>\n",
       "      <td>0.000000e+00</td>\n",
       "      <td>0.000000e+00</td>\n",
       "      <td>0.000000e+00</td>\n",
       "      <td>NaN</td>\n",
       "      <td>NaN</td>\n",
       "      <td>NaN</td>\n",
       "      <td>NaN</td>\n",
       "      <td>0.000000e+00</td>\n",
       "      <td>0.000000e+00</td>\n",
       "      <td>0.000000e+00</td>\n",
       "      <td>NaN</td>\n",
       "    </tr>\n",
       "    <tr>\n",
       "      <th>25%</th>\n",
       "      <td>2.101022e+16</td>\n",
       "      <td>2.880000e+02</td>\n",
       "      <td>4.397000e+05</td>\n",
       "      <td>NaN</td>\n",
       "      <td>NaN</td>\n",
       "      <td>6.000000e+00</td>\n",
       "      <td>1.000000</td>\n",
       "      <td>-3.528395e+02</td>\n",
       "      <td>-2.127183e+02</td>\n",
       "      <td>2.690000e+02</td>\n",
       "      <td>3.040000e+02</td>\n",
       "      <td>9.900000e+01</td>\n",
       "      <td>NaN</td>\n",
       "      <td>NaN</td>\n",
       "      <td>NaN</td>\n",
       "      <td>NaN</td>\n",
       "      <td>0.000000e+00</td>\n",
       "      <td>0.000000e+00</td>\n",
       "      <td>1.000000e+00</td>\n",
       "      <td>NaN</td>\n",
       "    </tr>\n",
       "    <tr>\n",
       "      <th>50%</th>\n",
       "      <td>2.104021e+16</td>\n",
       "      <td>5.950000e+02</td>\n",
       "      <td>1.014801e+06</td>\n",
       "      <td>NaN</td>\n",
       "      <td>NaN</td>\n",
       "      <td>1.300000e+01</td>\n",
       "      <td>3.000000</td>\n",
       "      <td>-1.116280e+01</td>\n",
       "      <td>-9.760534e+01</td>\n",
       "      <td>4.470000e+02</td>\n",
       "      <td>3.970000e+02</td>\n",
       "      <td>4.190000e+02</td>\n",
       "      <td>NaN</td>\n",
       "      <td>NaN</td>\n",
       "      <td>NaN</td>\n",
       "      <td>NaN</td>\n",
       "      <td>0.000000e+00</td>\n",
       "      <td>0.000000e+00</td>\n",
       "      <td>1.000000e+00</td>\n",
       "      <td>NaN</td>\n",
       "    </tr>\n",
       "    <tr>\n",
       "      <th>75%</th>\n",
       "      <td>2.110052e+16</td>\n",
       "      <td>8.960000e+02</td>\n",
       "      <td>1.747040e+06</td>\n",
       "      <td>NaN</td>\n",
       "      <td>NaN</td>\n",
       "      <td>1.800000e+01</td>\n",
       "      <td>5.000000</td>\n",
       "      <td>2.966515e+02</td>\n",
       "      <td>2.268786e+01</td>\n",
       "      <td>6.630000e+02</td>\n",
       "      <td>4.710000e+02</td>\n",
       "      <td>1.266000e+03</td>\n",
       "      <td>NaN</td>\n",
       "      <td>NaN</td>\n",
       "      <td>NaN</td>\n",
       "      <td>NaN</td>\n",
       "      <td>0.000000e+00</td>\n",
       "      <td>0.000000e+00</td>\n",
       "      <td>1.000000e+00</td>\n",
       "      <td>NaN</td>\n",
       "    </tr>\n",
       "    <tr>\n",
       "      <th>max</th>\n",
       "      <td>2.210022e+16</td>\n",
       "      <td>2.047300e+04</td>\n",
       "      <td>1.988607e+09</td>\n",
       "      <td>NaN</td>\n",
       "      <td>NaN</td>\n",
       "      <td>2.200000e+01</td>\n",
       "      <td>6.000000</td>\n",
       "      <td>1.261774e+03</td>\n",
       "      <td>5.436164e+02</td>\n",
       "      <td>1.919000e+03</td>\n",
       "      <td>1.440000e+03</td>\n",
       "      <td>2.451637e+08</td>\n",
       "      <td>NaN</td>\n",
       "      <td>NaN</td>\n",
       "      <td>NaN</td>\n",
       "      <td>NaN</td>\n",
       "      <td>1.000000e+00</td>\n",
       "      <td>1.000000e+00</td>\n",
       "      <td>1.000000e+00</td>\n",
       "      <td>NaN</td>\n",
       "    </tr>\n",
       "  </tbody>\n",
       "</table>\n",
       "</div>"
      ],
      "text/plain": [
       "          session_id         index  elapsed_time      event_name       name  \\\n",
       "count   2.629695e+07  2.629695e+07  2.629695e+07        26296946   26296946   \n",
       "unique           NaN           NaN           NaN              11          6   \n",
       "top              NaN           NaN           NaN  navigate_click  undefined   \n",
       "freq             NaN           NaN           NaN        11326433   12705785   \n",
       "mean    2.113249e+16  6.445102e+02  4.016694e+06             NaN        NaN   \n",
       "std     5.712953e+14  5.457880e+02  3.127032e+07             NaN        NaN   \n",
       "min     2.009031e+16  0.000000e+00  0.000000e+00             NaN        NaN   \n",
       "25%     2.101022e+16  2.880000e+02  4.397000e+05             NaN        NaN   \n",
       "50%     2.104021e+16  5.950000e+02  1.014801e+06             NaN        NaN   \n",
       "75%     2.110052e+16  8.960000e+02  1.747040e+06             NaN        NaN   \n",
       "max     2.210022e+16  2.047300e+04  1.988607e+09             NaN        NaN   \n",
       "\n",
       "               level           page   room_coor_x   room_coor_y  \\\n",
       "count   2.629695e+07  564544.000000  2.422367e+07  2.422367e+07   \n",
       "unique           NaN            NaN           NaN           NaN   \n",
       "top              NaN            NaN           NaN           NaN   \n",
       "freq             NaN            NaN           NaN           NaN   \n",
       "mean    1.219169e+01       3.166559 -5.490579e+01 -1.162119e+02   \n",
       "std     6.497789e+00       2.063291  5.202926e+02  2.184710e+02   \n",
       "min     0.000000e+00       0.000000 -1.992355e+03 -9.181623e+02   \n",
       "25%     6.000000e+00       1.000000 -3.528395e+02 -2.127183e+02   \n",
       "50%     1.300000e+01       3.000000 -1.116280e+01 -9.760534e+01   \n",
       "75%     1.800000e+01       5.000000  2.966515e+02  2.268786e+01   \n",
       "max     2.200000e+01       6.000000  1.261774e+03  5.436164e+02   \n",
       "\n",
       "        screen_coor_x  screen_coor_y  hover_duration       text      fqid  \\\n",
       "count    2.422367e+07   2.422367e+07    2.002244e+06    9617139  18022531   \n",
       "unique            NaN            NaN             NaN        597       128   \n",
       "top               NaN            NaN             NaN  undefined    worker   \n",
       "freq              NaN            NaN             NaN     355969   1878958   \n",
       "mean     4.584098e+02   3.855860e+02    3.471003e+03        NaN       NaN   \n",
       "std      2.479389e+02   1.298166e+02    4.602024e+05        NaN       NaN   \n",
       "min      0.000000e+00   0.000000e+00    0.000000e+00        NaN       NaN   \n",
       "25%      2.690000e+02   3.040000e+02    9.900000e+01        NaN       NaN   \n",
       "50%      4.470000e+02   3.970000e+02    4.190000e+02        NaN       NaN   \n",
       "75%      6.630000e+02   4.710000e+02    1.266000e+03        NaN       NaN   \n",
       "max      1.919000e+03   1.440000e+03    2.451637e+08        NaN       NaN   \n",
       "\n",
       "                            room_fqid  \\\n",
       "count                        26296946   \n",
       "unique                             19   \n",
       "top     tunic.historicalsociety.entry   \n",
       "freq                          3622003   \n",
       "mean                              NaN   \n",
       "std                               NaN   \n",
       "min                               NaN   \n",
       "25%                               NaN   \n",
       "50%                               NaN   \n",
       "75%                               NaN   \n",
       "max                               NaN   \n",
       "\n",
       "                                         text_fqid    fullscreen  \\\n",
       "count                                      9617244  2.629695e+07   \n",
       "unique                                         126           NaN   \n",
       "top     tunic.historicalsociety.cage.confrontation           NaN   \n",
       "freq                                        666557           NaN   \n",
       "mean                                           NaN  1.370037e-01   \n",
       "std                                            NaN  3.438513e-01   \n",
       "min                                            NaN  0.000000e+00   \n",
       "25%                                            NaN  0.000000e+00   \n",
       "50%                                            NaN  0.000000e+00   \n",
       "75%                                            NaN  0.000000e+00   \n",
       "max                                            NaN  1.000000e+00   \n",
       "\n",
       "                  hq         music level_group  \n",
       "count   2.629695e+07  2.629695e+07    26296946  \n",
       "unique           NaN           NaN           3  \n",
       "top              NaN           NaN       13-22  \n",
       "freq             NaN           NaN    13471703  \n",
       "mean    1.202047e-01  9.293778e-01         NaN  \n",
       "std     3.252008e-01  2.561926e-01         NaN  \n",
       "min     0.000000e+00  0.000000e+00         NaN  \n",
       "25%     0.000000e+00  1.000000e+00         NaN  \n",
       "50%     0.000000e+00  1.000000e+00         NaN  \n",
       "75%     0.000000e+00  1.000000e+00         NaN  \n",
       "max     1.000000e+00  1.000000e+00         NaN  "
      ]
     },
     "execution_count": 17,
     "metadata": {},
     "output_type": "execute_result"
    }
   ],
   "source": [
    "train_df.describe(include='all')"
   ]
  },
  {
   "cell_type": "code",
   "execution_count": 6,
   "metadata": {},
   "outputs": [],
   "source": [
    "def summary(df):\n",
    "    print(f'data shape : {df.shape}')\n",
    "    summ = pd.DataFrame(df.dtypes, columns=['data type'])\n",
    "    summ['#missing'] = df.isnull().sum().values * 100\n",
    "    summ['%missing'] = df.isnull().sum().values / len(df)\n",
    "    summ['#unique'] = df.nunique().values\n",
    "    desc = pd.DataFrame(df.describe(include='all').transpose())\n",
    "    summ['min'] = desc['min'].values\n",
    "    summ['max'] = desc['max'].values\n",
    "    summ['first value'] = df.loc[0].values\n",
    "    summ['second value'] = df.loc[1].values\n",
    "    summ['third value'] = df.loc[2].values\n",
    "    \n",
    "    return summ"
   ]
  },
  {
   "cell_type": "code",
   "execution_count": 7,
   "metadata": {},
   "outputs": [
    {
     "name": "stdout",
     "output_type": "stream",
     "text": [
      "data shape : (26296946, 20)\n"
     ]
    },
    {
     "data": {
      "text/html": [
       "<div>\n",
       "<style scoped>\n",
       "    .dataframe tbody tr th:only-of-type {\n",
       "        vertical-align: middle;\n",
       "    }\n",
       "\n",
       "    .dataframe tbody tr th {\n",
       "        vertical-align: top;\n",
       "    }\n",
       "\n",
       "    .dataframe thead th {\n",
       "        text-align: right;\n",
       "    }\n",
       "</style>\n",
       "<table border=\"1\" class=\"dataframe\">\n",
       "  <thead>\n",
       "    <tr style=\"text-align: right;\">\n",
       "      <th></th>\n",
       "      <th>data type</th>\n",
       "      <th>#missing</th>\n",
       "      <th>%missing</th>\n",
       "      <th>#unique</th>\n",
       "      <th>min</th>\n",
       "      <th>max</th>\n",
       "      <th>first value</th>\n",
       "      <th>second value</th>\n",
       "      <th>third value</th>\n",
       "    </tr>\n",
       "  </thead>\n",
       "  <tbody>\n",
       "    <tr>\n",
       "      <th>session_id</th>\n",
       "      <td>int64</td>\n",
       "      <td>0</td>\n",
       "      <td>0.000000</td>\n",
       "      <td>23562</td>\n",
       "      <td>2.00903e+16</td>\n",
       "      <td>2.21002e+16</td>\n",
       "      <td>20090312431273200</td>\n",
       "      <td>20090312431273200</td>\n",
       "      <td>20090312431273200</td>\n",
       "    </tr>\n",
       "    <tr>\n",
       "      <th>index</th>\n",
       "      <td>int64</td>\n",
       "      <td>0</td>\n",
       "      <td>0.000000</td>\n",
       "      <td>20348</td>\n",
       "      <td>0</td>\n",
       "      <td>20473</td>\n",
       "      <td>0</td>\n",
       "      <td>1</td>\n",
       "      <td>2</td>\n",
       "    </tr>\n",
       "    <tr>\n",
       "      <th>elapsed_time</th>\n",
       "      <td>int64</td>\n",
       "      <td>0</td>\n",
       "      <td>0.000000</td>\n",
       "      <td>5042639</td>\n",
       "      <td>0</td>\n",
       "      <td>1.98861e+09</td>\n",
       "      <td>0</td>\n",
       "      <td>1323</td>\n",
       "      <td>831</td>\n",
       "    </tr>\n",
       "    <tr>\n",
       "      <th>event_name</th>\n",
       "      <td>object</td>\n",
       "      <td>0</td>\n",
       "      <td>0.000000</td>\n",
       "      <td>11</td>\n",
       "      <td>NaN</td>\n",
       "      <td>NaN</td>\n",
       "      <td>cutscene_click</td>\n",
       "      <td>person_click</td>\n",
       "      <td>person_click</td>\n",
       "    </tr>\n",
       "    <tr>\n",
       "      <th>name</th>\n",
       "      <td>object</td>\n",
       "      <td>0</td>\n",
       "      <td>0.000000</td>\n",
       "      <td>6</td>\n",
       "      <td>NaN</td>\n",
       "      <td>NaN</td>\n",
       "      <td>basic</td>\n",
       "      <td>basic</td>\n",
       "      <td>basic</td>\n",
       "    </tr>\n",
       "    <tr>\n",
       "      <th>level</th>\n",
       "      <td>int64</td>\n",
       "      <td>0</td>\n",
       "      <td>0.000000</td>\n",
       "      <td>23</td>\n",
       "      <td>0</td>\n",
       "      <td>22</td>\n",
       "      <td>0</td>\n",
       "      <td>0</td>\n",
       "      <td>0</td>\n",
       "    </tr>\n",
       "    <tr>\n",
       "      <th>page</th>\n",
       "      <td>float64</td>\n",
       "      <td>2573240200</td>\n",
       "      <td>0.978532</td>\n",
       "      <td>7</td>\n",
       "      <td>0</td>\n",
       "      <td>6</td>\n",
       "      <td>NaN</td>\n",
       "      <td>NaN</td>\n",
       "      <td>NaN</td>\n",
       "    </tr>\n",
       "    <tr>\n",
       "      <th>room_coor_x</th>\n",
       "      <td>float64</td>\n",
       "      <td>207327200</td>\n",
       "      <td>0.078841</td>\n",
       "      <td>17434779</td>\n",
       "      <td>-1992.35</td>\n",
       "      <td>1261.77</td>\n",
       "      <td>-413.991</td>\n",
       "      <td>-413.991</td>\n",
       "      <td>-413.991</td>\n",
       "    </tr>\n",
       "    <tr>\n",
       "      <th>room_coor_y</th>\n",
       "      <td>float64</td>\n",
       "      <td>207327200</td>\n",
       "      <td>0.078841</td>\n",
       "      <td>13648406</td>\n",
       "      <td>-918.162</td>\n",
       "      <td>543.616</td>\n",
       "      <td>-159.315</td>\n",
       "      <td>-159.315</td>\n",
       "      <td>-159.315</td>\n",
       "    </tr>\n",
       "    <tr>\n",
       "      <th>screen_coor_x</th>\n",
       "      <td>float64</td>\n",
       "      <td>207327200</td>\n",
       "      <td>0.078841</td>\n",
       "      <td>57924</td>\n",
       "      <td>0</td>\n",
       "      <td>1919</td>\n",
       "      <td>380</td>\n",
       "      <td>380</td>\n",
       "      <td>380</td>\n",
       "    </tr>\n",
       "    <tr>\n",
       "      <th>screen_coor_y</th>\n",
       "      <td>float64</td>\n",
       "      <td>207327200</td>\n",
       "      <td>0.078841</td>\n",
       "      <td>102591</td>\n",
       "      <td>0</td>\n",
       "      <td>1440</td>\n",
       "      <td>494</td>\n",
       "      <td>494</td>\n",
       "      <td>494</td>\n",
       "    </tr>\n",
       "    <tr>\n",
       "      <th>hover_duration</th>\n",
       "      <td>float64</td>\n",
       "      <td>2429470200</td>\n",
       "      <td>0.923860</td>\n",
       "      <td>24101</td>\n",
       "      <td>0</td>\n",
       "      <td>2.45164e+08</td>\n",
       "      <td>NaN</td>\n",
       "      <td>NaN</td>\n",
       "      <td>NaN</td>\n",
       "    </tr>\n",
       "    <tr>\n",
       "      <th>text</th>\n",
       "      <td>object</td>\n",
       "      <td>1667980700</td>\n",
       "      <td>0.634287</td>\n",
       "      <td>597</td>\n",
       "      <td>NaN</td>\n",
       "      <td>NaN</td>\n",
       "      <td>undefined</td>\n",
       "      <td>Whatcha doing over there, Jo?</td>\n",
       "      <td>Just talking to Teddy.</td>\n",
       "    </tr>\n",
       "    <tr>\n",
       "      <th>fqid</th>\n",
       "      <td>object</td>\n",
       "      <td>827441500</td>\n",
       "      <td>0.314653</td>\n",
       "      <td>128</td>\n",
       "      <td>NaN</td>\n",
       "      <td>NaN</td>\n",
       "      <td>intro</td>\n",
       "      <td>gramps</td>\n",
       "      <td>gramps</td>\n",
       "    </tr>\n",
       "    <tr>\n",
       "      <th>room_fqid</th>\n",
       "      <td>object</td>\n",
       "      <td>0</td>\n",
       "      <td>0.000000</td>\n",
       "      <td>19</td>\n",
       "      <td>NaN</td>\n",
       "      <td>NaN</td>\n",
       "      <td>tunic.historicalsociety.closet</td>\n",
       "      <td>tunic.historicalsociety.closet</td>\n",
       "      <td>tunic.historicalsociety.closet</td>\n",
       "    </tr>\n",
       "    <tr>\n",
       "      <th>text_fqid</th>\n",
       "      <td>object</td>\n",
       "      <td>1667970200</td>\n",
       "      <td>0.634283</td>\n",
       "      <td>126</td>\n",
       "      <td>NaN</td>\n",
       "      <td>NaN</td>\n",
       "      <td>tunic.historicalsociety.closet.intro</td>\n",
       "      <td>tunic.historicalsociety.closet.gramps.intro_0_...</td>\n",
       "      <td>tunic.historicalsociety.closet.gramps.intro_0_...</td>\n",
       "    </tr>\n",
       "    <tr>\n",
       "      <th>fullscreen</th>\n",
       "      <td>int64</td>\n",
       "      <td>0</td>\n",
       "      <td>0.000000</td>\n",
       "      <td>2</td>\n",
       "      <td>0</td>\n",
       "      <td>1</td>\n",
       "      <td>0</td>\n",
       "      <td>0</td>\n",
       "      <td>0</td>\n",
       "    </tr>\n",
       "    <tr>\n",
       "      <th>hq</th>\n",
       "      <td>int64</td>\n",
       "      <td>0</td>\n",
       "      <td>0.000000</td>\n",
       "      <td>2</td>\n",
       "      <td>0</td>\n",
       "      <td>1</td>\n",
       "      <td>0</td>\n",
       "      <td>0</td>\n",
       "      <td>0</td>\n",
       "    </tr>\n",
       "    <tr>\n",
       "      <th>music</th>\n",
       "      <td>int64</td>\n",
       "      <td>0</td>\n",
       "      <td>0.000000</td>\n",
       "      <td>2</td>\n",
       "      <td>0</td>\n",
       "      <td>1</td>\n",
       "      <td>1</td>\n",
       "      <td>1</td>\n",
       "      <td>1</td>\n",
       "    </tr>\n",
       "    <tr>\n",
       "      <th>level_group</th>\n",
       "      <td>object</td>\n",
       "      <td>0</td>\n",
       "      <td>0.000000</td>\n",
       "      <td>3</td>\n",
       "      <td>NaN</td>\n",
       "      <td>NaN</td>\n",
       "      <td>0-4</td>\n",
       "      <td>0-4</td>\n",
       "      <td>0-4</td>\n",
       "    </tr>\n",
       "  </tbody>\n",
       "</table>\n",
       "</div>"
      ],
      "text/plain": [
       "               data type    #missing  %missing   #unique          min  \\\n",
       "session_id         int64           0  0.000000     23562  2.00903e+16   \n",
       "index              int64           0  0.000000     20348            0   \n",
       "elapsed_time       int64           0  0.000000   5042639            0   \n",
       "event_name        object           0  0.000000        11          NaN   \n",
       "name              object           0  0.000000         6          NaN   \n",
       "level              int64           0  0.000000        23            0   \n",
       "page             float64  2573240200  0.978532         7            0   \n",
       "room_coor_x      float64   207327200  0.078841  17434779     -1992.35   \n",
       "room_coor_y      float64   207327200  0.078841  13648406     -918.162   \n",
       "screen_coor_x    float64   207327200  0.078841     57924            0   \n",
       "screen_coor_y    float64   207327200  0.078841    102591            0   \n",
       "hover_duration   float64  2429470200  0.923860     24101            0   \n",
       "text              object  1667980700  0.634287       597          NaN   \n",
       "fqid              object   827441500  0.314653       128          NaN   \n",
       "room_fqid         object           0  0.000000        19          NaN   \n",
       "text_fqid         object  1667970200  0.634283       126          NaN   \n",
       "fullscreen         int64           0  0.000000         2            0   \n",
       "hq                 int64           0  0.000000         2            0   \n",
       "music              int64           0  0.000000         2            0   \n",
       "level_group       object           0  0.000000         3          NaN   \n",
       "\n",
       "                        max                           first value  \\\n",
       "session_id      2.21002e+16                     20090312431273200   \n",
       "index                 20473                                     0   \n",
       "elapsed_time    1.98861e+09                                     0   \n",
       "event_name              NaN                        cutscene_click   \n",
       "name                    NaN                                 basic   \n",
       "level                    22                                     0   \n",
       "page                      6                                   NaN   \n",
       "room_coor_x         1261.77                              -413.991   \n",
       "room_coor_y         543.616                              -159.315   \n",
       "screen_coor_x          1919                                   380   \n",
       "screen_coor_y          1440                                   494   \n",
       "hover_duration  2.45164e+08                                   NaN   \n",
       "text                    NaN                             undefined   \n",
       "fqid                    NaN                                 intro   \n",
       "room_fqid               NaN        tunic.historicalsociety.closet   \n",
       "text_fqid               NaN  tunic.historicalsociety.closet.intro   \n",
       "fullscreen                1                                     0   \n",
       "hq                        1                                     0   \n",
       "music                     1                                     1   \n",
       "level_group             NaN                                   0-4   \n",
       "\n",
       "                                                     second value  \\\n",
       "session_id                                      20090312431273200   \n",
       "index                                                           1   \n",
       "elapsed_time                                                 1323   \n",
       "event_name                                           person_click   \n",
       "name                                                        basic   \n",
       "level                                                           0   \n",
       "page                                                          NaN   \n",
       "room_coor_x                                              -413.991   \n",
       "room_coor_y                                              -159.315   \n",
       "screen_coor_x                                                 380   \n",
       "screen_coor_y                                                 494   \n",
       "hover_duration                                                NaN   \n",
       "text                                Whatcha doing over there, Jo?   \n",
       "fqid                                                       gramps   \n",
       "room_fqid                          tunic.historicalsociety.closet   \n",
       "text_fqid       tunic.historicalsociety.closet.gramps.intro_0_...   \n",
       "fullscreen                                                      0   \n",
       "hq                                                              0   \n",
       "music                                                           1   \n",
       "level_group                                                   0-4   \n",
       "\n",
       "                                                      third value  \n",
       "session_id                                      20090312431273200  \n",
       "index                                                           2  \n",
       "elapsed_time                                                  831  \n",
       "event_name                                           person_click  \n",
       "name                                                        basic  \n",
       "level                                                           0  \n",
       "page                                                          NaN  \n",
       "room_coor_x                                              -413.991  \n",
       "room_coor_y                                              -159.315  \n",
       "screen_coor_x                                                 380  \n",
       "screen_coor_y                                                 494  \n",
       "hover_duration                                                NaN  \n",
       "text                                       Just talking to Teddy.  \n",
       "fqid                                                       gramps  \n",
       "room_fqid                          tunic.historicalsociety.closet  \n",
       "text_fqid       tunic.historicalsociety.closet.gramps.intro_0_...  \n",
       "fullscreen                                                      0  \n",
       "hq                                                              0  \n",
       "music                                                           1  \n",
       "level_group                                                   0-4  "
      ]
     },
     "execution_count": 7,
     "metadata": {},
     "output_type": "execute_result"
    }
   ],
   "source": [
    "summary_table = summary(train_df)\n",
    "summary_table"
   ]
  },
  {
   "cell_type": "code",
   "execution_count": 19,
   "metadata": {},
   "outputs": [
    {
     "name": "stdout",
     "output_type": "stream",
     "text": [
      "session_id               0\n",
      "index                    0\n",
      "elapsed_time             0\n",
      "event_name               0\n",
      "name                     0\n",
      "level                    0\n",
      "page              25732402\n",
      "room_coor_x        2073272\n",
      "room_coor_y        2073272\n",
      "screen_coor_x      2073272\n",
      "screen_coor_y      2073272\n",
      "hover_duration    24294702\n",
      "text              16679807\n",
      "fqid               8274415\n",
      "room_fqid                0\n",
      "text_fqid         16679702\n",
      "fullscreen               0\n",
      "hq                       0\n",
      "music                    0\n",
      "level_group              0\n",
      "dtype: int64\n"
     ]
    }
   ],
   "source": [
    "print(train_df.isnull().sum())"
   ]
  },
  {
   "cell_type": "code",
   "execution_count": 20,
   "metadata": {},
   "outputs": [
    {
     "data": {
      "text/plain": [
       "20110310463989760    19032\n",
       "20110515090304556     6000\n",
       "21110313432157404     5435\n",
       "21010312074134348     4803\n",
       "20110219555923044     4743\n",
       "                     ...  \n",
       "21030218335394260      639\n",
       "21000013055772070      637\n",
       "21030108504475890      635\n",
       "20110112402567744      634\n",
       "22000610592348800      591\n",
       "Name: session_id, Length: 23562, dtype: int64"
      ]
     },
     "execution_count": 20,
     "metadata": {},
     "output_type": "execute_result"
    }
   ],
   "source": [
    "train_df['session_id'].value_counts()"
   ]
  },
  {
   "cell_type": "code",
   "execution_count": 29,
   "metadata": {},
   "outputs": [
    {
     "data": {
      "text/plain": [
       "navigate_click        11326433\n",
       "person_click           6052853\n",
       "cutscene_click         2703035\n",
       "object_click           2198211\n",
       "object_hover           1057085\n",
       "map_hover               945159\n",
       "notification_click      649001\n",
       "notebook_click          564544\n",
       "map_click               517242\n",
       "observation_click       212355\n",
       "checkpoint               71028\n",
       "Name: event_name, dtype: int64"
      ]
     },
     "execution_count": 29,
     "metadata": {},
     "output_type": "execute_result"
    }
   ],
   "source": [
    "train_df['event_name'].value_counts()"
   ]
  },
  {
   "cell_type": "code",
   "execution_count": 31,
   "metadata": {},
   "outputs": [
    {
     "data": {
      "text/plain": [
       "0           23564\n",
       "1014          125\n",
       "1016          123\n",
       "949            90\n",
       "849            88\n",
       "            ...  \n",
       "3499796         1\n",
       "3811068         1\n",
       "12220150        1\n",
       "3843820         1\n",
       "68614415        1\n",
       "Name: elapsed_time, Length: 5042639, dtype: int64"
      ]
     },
     "execution_count": 31,
     "metadata": {},
     "output_type": "execute_result"
    }
   ],
   "source": [
    "train_df['elapsed_time'].value_counts()"
   ]
  },
  {
   "cell_type": "code",
   "execution_count": 32,
   "metadata": {},
   "outputs": [
    {
     "data": {
      "text/plain": [
       "undefined    12705785\n",
       "basic        12648469\n",
       "close          676696\n",
       "open           235139\n",
       "prev            19250\n",
       "next            11607\n",
       "Name: name, dtype: int64"
      ]
     },
     "execution_count": 32,
     "metadata": {},
     "output_type": "execute_result"
    }
   ],
   "source": [
    "train_df['name'].value_counts()"
   ]
  },
  {
   "cell_type": "code",
   "execution_count": 33,
   "metadata": {},
   "outputs": [
    {
     "data": {
      "text/plain": [
       "18    3499163\n",
       "6     2117796\n",
       "21    2110010\n",
       "11    1937208\n",
       "16    1295082\n",
       "7     1278207\n",
       "15    1219497\n",
       "19    1217088\n",
       "17    1207881\n",
       "3     1144768\n",
       "9     1137748\n",
       "20    1129246\n",
       "2      992615\n",
       "8      888584\n",
       "13     823875\n",
       "1      726590\n",
       "0      688992\n",
       "5      668188\n",
       "14     550829\n",
       "10     449139\n",
       "4      428040\n",
       "22     419032\n",
       "12     367368\n",
       "Name: level, dtype: int64"
      ]
     },
     "execution_count": 33,
     "metadata": {},
     "output_type": "execute_result"
    }
   ],
   "source": [
    "train_df['level'].value_counts()"
   ]
  },
  {
   "cell_type": "code",
   "execution_count": 34,
   "metadata": {},
   "outputs": [
    {
     "data": {
      "text/plain": [
       "5.0    101171\n",
       "1.0     99900\n",
       "6.0     90743\n",
       "4.0     88197\n",
       "0.0     73485\n",
       "3.0     62565\n",
       "2.0     48483\n",
       "Name: page, dtype: int64"
      ]
     },
     "execution_count": 34,
     "metadata": {},
     "output_type": "execute_result"
    }
   ],
   "source": [
    "train_df['page'].value_counts()"
   ]
  },
  {
   "cell_type": "code",
   "execution_count": 35,
   "metadata": {},
   "outputs": [
    {
     "data": {
      "text/plain": [
       " 425.725528    3915\n",
       " 426.725528    3883\n",
       " 427.725528    3775\n",
       " 424.725528    3640\n",
       " 423.725528    3610\n",
       "               ... \n",
       " 151.187903       1\n",
       " 74.411676        1\n",
       " 426.398882       1\n",
       "-586.632757       1\n",
       "-327.001652       1\n",
       "Name: room_coor_x, Length: 17434779, dtype: int64"
      ]
     },
     "execution_count": 35,
     "metadata": {},
     "output_type": "execute_result"
    }
   ],
   "source": [
    "train_df['room_coor_x'].value_counts()"
   ]
  },
  {
   "cell_type": "code",
   "execution_count": 36,
   "metadata": {},
   "outputs": [
    {
     "data": {
      "text/plain": [
       "-106.000000    20291\n",
       "-105.000000    20264\n",
       "-104.000000    20076\n",
       "-102.000000    20065\n",
       "-103.000000    19892\n",
       "               ...  \n",
       "-685.348949        1\n",
       "-33.511668         1\n",
       " 150.774950        1\n",
       "-301.110058        1\n",
       "-235.733010        1\n",
       "Name: room_coor_y, Length: 13648406, dtype: int64"
      ]
     },
     "execution_count": 36,
     "metadata": {},
     "output_type": "execute_result"
    }
   ],
   "source": [
    "train_df['room_coor_y'].value_counts()"
   ]
  },
  {
   "cell_type": "code",
   "execution_count": 37,
   "metadata": {},
   "outputs": [
    {
     "data": {
      "text/plain": [
       "822.000000    41453\n",
       "824.000000    41088\n",
       "814.000000    40903\n",
       "382.000000    40857\n",
       "820.000000    40753\n",
       "              ...  \n",
       "467.817261        1\n",
       "480.771301        1\n",
       "467.846588        1\n",
       "467.875061        1\n",
       "259.600037        1\n",
       "Name: screen_coor_x, Length: 57924, dtype: int64"
      ]
     },
     "execution_count": 37,
     "metadata": {},
     "output_type": "execute_result"
    }
   ],
   "source": [
    "train_df['screen_coor_x'].value_counts()"
   ]
  },
  {
   "cell_type": "code",
   "execution_count": 38,
   "metadata": {},
   "outputs": [
    {
     "data": {
      "text/plain": [
       "434.000000    88516\n",
       "436.000000    88497\n",
       "431.000000    88451\n",
       "435.000000    87811\n",
       "433.000000    87777\n",
       "              ...  \n",
       "363.883148        1\n",
       "363.882355        1\n",
       "363.877594        1\n",
       "363.875000        1\n",
       "408.082367        1\n",
       "Name: screen_coor_y, Length: 102591, dtype: int64"
      ]
     },
     "execution_count": 38,
     "metadata": {},
     "output_type": "execute_result"
    }
   ],
   "source": [
    "train_df['screen_coor_y'].value_counts()"
   ]
  },
  {
   "cell_type": "code",
   "execution_count": 39,
   "metadata": {},
   "outputs": [
    {
     "data": {
      "text/plain": [
       "17.0       62582\n",
       "50.0       50003\n",
       "33.0       37660\n",
       "16.0       37449\n",
       "67.0       25997\n",
       "           ...  \n",
       "21453.0        1\n",
       "21452.0        1\n",
       "21451.0        1\n",
       "21448.0        1\n",
       "12090.0        1\n",
       "Name: hover_duration, Length: 24101, dtype: int64"
      ]
     },
     "execution_count": 39,
     "metadata": {},
     "output_type": "execute_result"
    }
   ],
   "source": [
    "train_df['hover_duration'].value_counts()"
   ]
  },
  {
   "cell_type": "code",
   "execution_count": 40,
   "metadata": {},
   "outputs": [
    {
     "data": {
      "text/plain": [
       "undefined                                      355969\n",
       "\\u00f0\\u0178\\u02dc\\u0090                        48805\n",
       "Hey!                                            47452\n",
       "I should go to the Capitol and tell Mrs. M!     40463\n",
       "This is perfect for the exhibit.                40218\n",
       "                                                ...  \n",
       "AND he stole Teddy!                                 1\n",
       "Here I am!                                          1\n",
       "Now can I tell you what happened to Teddy?          1\n",
       "It'll be okay, Jo. We'll find Teddy!                1\n",
       "Nice work on the shirt, Jolie!                      1\n",
       "Name: text, Length: 597, dtype: int64"
      ]
     },
     "execution_count": 40,
     "metadata": {},
     "output_type": "execute_result"
    }
   ],
   "source": [
    "train_df['text'].value_counts()"
   ]
  },
  {
   "cell_type": "code",
   "execution_count": 41,
   "metadata": {},
   "outputs": [
    {
     "data": {
      "text/plain": [
       "worker           1878958\n",
       "archivist        1127341\n",
       "gramps           1122264\n",
       "wells             787418\n",
       "toentry           784496\n",
       "                  ...   \n",
       "need_glasses        1297\n",
       "block_badge_2        993\n",
       "fox                  465\n",
       "block_1               37\n",
       "chap2_finale           1\n",
       "Name: fqid, Length: 128, dtype: int64"
      ]
     },
     "execution_count": 41,
     "metadata": {},
     "output_type": "execute_result"
    }
   ],
   "source": [
    "train_df['fqid'].value_counts()"
   ]
  },
  {
   "cell_type": "code",
   "execution_count": 42,
   "metadata": {},
   "outputs": [
    {
     "data": {
      "text/plain": [
       "tunic.historicalsociety.entry              3622003\n",
       "tunic.wildlife.center                      3013154\n",
       "tunic.historicalsociety.cage               2352083\n",
       "tunic.library.frontdesk                    2145666\n",
       "tunic.historicalsociety.frontdesk          1943066\n",
       "tunic.historicalsociety.stacks             1794007\n",
       "tunic.historicalsociety.closet_dirty       1568994\n",
       "tunic.humanecology.frontdesk               1326890\n",
       "tunic.historicalsociety.basement           1168090\n",
       "tunic.kohlcenter.halloffame                1096872\n",
       "tunic.library.microfiche                    995674\n",
       "tunic.drycleaner.frontdesk                  981451\n",
       "tunic.historicalsociety.collection          957400\n",
       "tunic.historicalsociety.closet              857273\n",
       "tunic.flaghouse.entry                       833793\n",
       "tunic.historicalsociety.collection_flag     452397\n",
       "tunic.capitol_1.hall                        445569\n",
       "tunic.capitol_0.hall                        416469\n",
       "tunic.capitol_2.hall                        326095\n",
       "Name: room_fqid, dtype: int64"
      ]
     },
     "execution_count": 42,
     "metadata": {},
     "output_type": "execute_result"
    }
   ],
   "source": [
    "train_df['room_fqid'].value_counts()"
   ]
  },
  {
   "cell_type": "code",
   "execution_count": 43,
   "metadata": {},
   "outputs": [
    {
     "data": {
      "text/plain": [
       "tunic.historicalsociety.cage.confrontation               666557\n",
       "tunic.wildlife.center.crane_ranger.crane                 470755\n",
       "tunic.historicalsociety.frontdesk.archivist.newspaper    429762\n",
       "tunic.historicalsociety.entry.groupconvo                 427180\n",
       "tunic.wildlife.center.wells.nodeer                       399967\n",
       "                                                          ...  \n",
       "tunic.capitol_2.hall.chap4_finale_c                         280\n",
       "tunic.drycleaner.frontdesk.block_0                          221\n",
       "tunic.historicalsociety.entry.gramps.hub                     39\n",
       "tunic.humanecology.frontdesk.block_1                         13\n",
       "tunic.drycleaner.frontdesk.block_1                            3\n",
       "Name: text_fqid, Length: 126, dtype: int64"
      ]
     },
     "execution_count": 43,
     "metadata": {},
     "output_type": "execute_result"
    }
   ],
   "source": [
    "train_df['text_fqid'].value_counts()"
   ]
  },
  {
   "cell_type": "code",
   "execution_count": 44,
   "metadata": {},
   "outputs": [
    {
     "data": {
      "text/plain": [
       "0    22694166\n",
       "1     3602780\n",
       "Name: fullscreen, dtype: int64"
      ]
     },
     "execution_count": 44,
     "metadata": {},
     "output_type": "execute_result"
    }
   ],
   "source": [
    "train_df['fullscreen'].value_counts()"
   ]
  },
  {
   "cell_type": "code",
   "execution_count": 45,
   "metadata": {},
   "outputs": [
    {
     "data": {
      "text/plain": [
       "0    23135929\n",
       "1     3161017\n",
       "Name: hq, dtype: int64"
      ]
     },
     "execution_count": 45,
     "metadata": {},
     "output_type": "execute_result"
    }
   ],
   "source": [
    "train_df['hq'].value_counts()"
   ]
  },
  {
   "cell_type": "code",
   "execution_count": 46,
   "metadata": {},
   "outputs": [
    {
     "data": {
      "text/plain": [
       "1    24439799\n",
       "0     1857147\n",
       "Name: music, dtype: int64"
      ]
     },
     "execution_count": 46,
     "metadata": {},
     "output_type": "execute_result"
    }
   ],
   "source": [
    "train_df['music'].value_counts()"
   ]
  },
  {
   "cell_type": "code",
   "execution_count": 47,
   "metadata": {},
   "outputs": [
    {
     "data": {
      "text/plain": [
       "13-22    13471703\n",
       "5-12      8844238\n",
       "0-4       3981005\n",
       "Name: level_group, dtype: int64"
      ]
     },
     "execution_count": 47,
     "metadata": {},
     "output_type": "execute_result"
    }
   ],
   "source": [
    "train_df['level_group'].value_counts()"
   ]
  },
  {
   "cell_type": "markdown",
   "metadata": {},
   "source": [
    "# target_df"
   ]
  },
  {
   "cell_type": "code",
   "execution_count": 25,
   "metadata": {},
   "outputs": [
    {
     "name": "stdout",
     "output_type": "stream",
     "text": [
      "target_shape :  (424116, 2)\n"
     ]
    },
    {
     "data": {
      "text/html": [
       "<div>\n",
       "<style scoped>\n",
       "    .dataframe tbody tr th:only-of-type {\n",
       "        vertical-align: middle;\n",
       "    }\n",
       "\n",
       "    .dataframe tbody tr th {\n",
       "        vertical-align: top;\n",
       "    }\n",
       "\n",
       "    .dataframe thead th {\n",
       "        text-align: right;\n",
       "    }\n",
       "</style>\n",
       "<table border=\"1\" class=\"dataframe\">\n",
       "  <thead>\n",
       "    <tr style=\"text-align: right;\">\n",
       "      <th></th>\n",
       "      <th>session_id</th>\n",
       "      <th>correct</th>\n",
       "    </tr>\n",
       "  </thead>\n",
       "  <tbody>\n",
       "    <tr>\n",
       "      <th>0</th>\n",
       "      <td>20090312431273200_q1</td>\n",
       "      <td>1</td>\n",
       "    </tr>\n",
       "    <tr>\n",
       "      <th>1</th>\n",
       "      <td>20090312433251036_q1</td>\n",
       "      <td>0</td>\n",
       "    </tr>\n",
       "    <tr>\n",
       "      <th>2</th>\n",
       "      <td>20090312455206810_q1</td>\n",
       "      <td>1</td>\n",
       "    </tr>\n",
       "    <tr>\n",
       "      <th>3</th>\n",
       "      <td>20090313091715820_q1</td>\n",
       "      <td>0</td>\n",
       "    </tr>\n",
       "    <tr>\n",
       "      <th>4</th>\n",
       "      <td>20090313571836404_q1</td>\n",
       "      <td>1</td>\n",
       "    </tr>\n",
       "  </tbody>\n",
       "</table>\n",
       "</div>"
      ],
      "text/plain": [
       "             session_id  correct\n",
       "0  20090312431273200_q1        1\n",
       "1  20090312433251036_q1        0\n",
       "2  20090312455206810_q1        1\n",
       "3  20090313091715820_q1        0\n",
       "4  20090313571836404_q1        1"
      ]
     },
     "execution_count": 25,
     "metadata": {},
     "output_type": "execute_result"
    }
   ],
   "source": [
    "target_df = pd.read_csv('predict-student-performance-from-game-play/train_labels.csv')\n",
    "print('target_shape : ', target_df.shape)\n",
    "target_df.head()"
   ]
  },
  {
   "cell_type": "code",
   "execution_count": 21,
   "metadata": {},
   "outputs": [
    {
     "data": {
      "text/plain": [
       "21060211402031296_q10    1\n",
       "21020316583001664_q2     1\n",
       "22030121470021372_q12    1\n",
       "21000213545536640_q15    1\n",
       "21040317134619916_q9     1\n",
       "                        ..\n",
       "21070119241871344_q6     1\n",
       "21020410032452044_q13    1\n",
       "21010615580461230_q18    1\n",
       "21030212071140750_q14    1\n",
       "22020217465089184_q1     1\n",
       "Name: session_id, Length: 424116, dtype: int64"
      ]
     },
     "execution_count": 21,
     "metadata": {},
     "output_type": "execute_result"
    }
   ],
   "source": [
    "target_df['session_id'].value_counts()"
   ]
  },
  {
   "cell_type": "code",
   "execution_count": 27,
   "metadata": {},
   "outputs": [
    {
     "name": "stdout",
     "output_type": "stream",
     "text": [
      "target_df shape :  (424116, 4)\n"
     ]
    },
    {
     "data": {
      "text/html": [
       "<div>\n",
       "<style scoped>\n",
       "    .dataframe tbody tr th:only-of-type {\n",
       "        vertical-align: middle;\n",
       "    }\n",
       "\n",
       "    .dataframe tbody tr th {\n",
       "        vertical-align: top;\n",
       "    }\n",
       "\n",
       "    .dataframe thead th {\n",
       "        text-align: right;\n",
       "    }\n",
       "</style>\n",
       "<table border=\"1\" class=\"dataframe\">\n",
       "  <thead>\n",
       "    <tr style=\"text-align: right;\">\n",
       "      <th></th>\n",
       "      <th>session_id</th>\n",
       "      <th>correct</th>\n",
       "      <th>session</th>\n",
       "      <th>q</th>\n",
       "    </tr>\n",
       "  </thead>\n",
       "  <tbody>\n",
       "    <tr>\n",
       "      <th>0</th>\n",
       "      <td>20090312431273200_q1</td>\n",
       "      <td>1</td>\n",
       "      <td>20090312431273200</td>\n",
       "      <td>1</td>\n",
       "    </tr>\n",
       "    <tr>\n",
       "      <th>1</th>\n",
       "      <td>20090312433251036_q1</td>\n",
       "      <td>0</td>\n",
       "      <td>20090312433251036</td>\n",
       "      <td>1</td>\n",
       "    </tr>\n",
       "    <tr>\n",
       "      <th>2</th>\n",
       "      <td>20090312455206810_q1</td>\n",
       "      <td>1</td>\n",
       "      <td>20090312455206810</td>\n",
       "      <td>1</td>\n",
       "    </tr>\n",
       "    <tr>\n",
       "      <th>3</th>\n",
       "      <td>20090313091715820_q1</td>\n",
       "      <td>0</td>\n",
       "      <td>20090313091715820</td>\n",
       "      <td>1</td>\n",
       "    </tr>\n",
       "    <tr>\n",
       "      <th>4</th>\n",
       "      <td>20090313571836404_q1</td>\n",
       "      <td>1</td>\n",
       "      <td>20090313571836404</td>\n",
       "      <td>1</td>\n",
       "    </tr>\n",
       "  </tbody>\n",
       "</table>\n",
       "</div>"
      ],
      "text/plain": [
       "             session_id  correct            session  q\n",
       "0  20090312431273200_q1        1  20090312431273200  1\n",
       "1  20090312433251036_q1        0  20090312433251036  1\n",
       "2  20090312455206810_q1        1  20090312455206810  1\n",
       "3  20090313091715820_q1        0  20090313091715820  1\n",
       "4  20090313571836404_q1        1  20090313571836404  1"
      ]
     },
     "execution_count": 27,
     "metadata": {},
     "output_type": "execute_result"
    }
   ],
   "source": [
    "target_df['session'] = target_df.session_id.apply(lambda x: int(x.split('_')[0]))\n",
    "target_df['q'] = target_df.session_id.apply(lambda x: int(x.split('_')[-1][1:]))\n",
    "print('target_df shape : ', target_df.shape)\n",
    "target_df.head()"
   ]
  },
  {
   "cell_type": "code",
   "execution_count": 28,
   "metadata": {},
   "outputs": [
    {
     "data": {
      "text/plain": [
       "21000606001582604    18\n",
       "22050310044794292    18\n",
       "21020214171435180    18\n",
       "20100012523954740    18\n",
       "21090007171260644    18\n",
       "                     ..\n",
       "21040518374552664    18\n",
       "21010511462266430    18\n",
       "20100111112073250    18\n",
       "20100618100195524    18\n",
       "21000412185488852    18\n",
       "Name: session, Length: 23562, dtype: int64"
      ]
     },
     "execution_count": 28,
     "metadata": {},
     "output_type": "execute_result"
    }
   ],
   "source": [
    "target_df['session'].value_counts()"
   ]
  },
  {
   "cell_type": "code",
   "execution_count": null,
   "metadata": {},
   "outputs": [],
   "source": []
  }
 ],
 "metadata": {
  "kernelspec": {
   "display_name": "Python 3",
   "language": "python",
   "name": "python3"
  },
  "language_info": {
   "codemirror_mode": {
    "name": "ipython",
    "version": 3
   },
   "file_extension": ".py",
   "mimetype": "text/x-python",
   "name": "python",
   "nbconvert_exporter": "python",
   "pygments_lexer": "ipython3",
   "version": "3.8.5"
  }
 },
 "nbformat": 4,
 "nbformat_minor": 4
}
